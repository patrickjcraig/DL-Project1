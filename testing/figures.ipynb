{
 "cells": [
  {
   "cell_type": "code",
   "execution_count": 4,
   "metadata": {},
   "outputs": [],
   "source": [
    "import matplotlib.pyplot as plt\n",
    "import pandas as pd\n",
    "import numpy as np\n",
    "# Read the CSV files\n",
    "accuracy_df = pd.read_csv('augmentation_accuracy.csv')\n",
    "loss_df = pd.read_csv('augmentation_loss.csv')\n",
    "x_values = np.arange(1, 17)\n",
    "# Accuracy vs Epoch plot\n",
    "plt.figure(figsize=(10, 5))\n",
    "for technique in accuracy_df.columns:  # Skip the 'epoch' column\n",
    "    plt.plot(x_values, accuracy_df[technique], label=technique)\n",
    "plt.xlabel('Epochs')\n",
    "plt.ylabel('Accuracy')\n",
    "plt.title(f'Accuracy vs Epoch for Different Augmentation Techniques')\n",
    "plt.legend()\n",
    "# Save the accuracy plot\n",
    "plt.savefig(f'augmentation_accuracy.png')\n",
    "plt.close()  # Close the current figure to start fresh for the next plot\n",
    "\n",
    "# Loss vs Epoch plot\n",
    "plt.figure(figsize=(10, 6))\n",
    "for technique in loss_df.columns:  # Skip the 'epoch' column\n",
    "    plt.plot(x_values, loss_df[technique], label=technique)\n",
    "plt.xlabel('Epochs')\n",
    "plt.ylabel('Loss')\n",
    "plt.title(f'Loss vs Epoch for Different Augmentation Techniques')\n",
    "plt.legend()\n",
    "# Save the accuracy plot\n",
    "plt.savefig(f'augmentation_loss.png')\n",
    "plt.close()  # Close the current figure to start fresh for the next plot\n"
   ]
  },
  {
   "cell_type": "code",
   "execution_count": 5,
   "metadata": {},
   "outputs": [],
   "source": [
    "# Read the test CSV files\n",
    "test_accuracy_df = pd.read_csv('test_accuracy.csv')\n",
    "test_loss_df = pd.read_csv('test_loss.csv')\n",
    "x_values = np.arange(1, 101)\n",
    "# Test Accuracy vs Epoch plot\n",
    "plt.figure(figsize=(10, 6))\n",
    "for technique in test_accuracy_df.columns:  # Skip the 'epoch' column\n",
    "    plt.plot(x_values, test_accuracy_df[technique], label=technique)\n",
    "plt.xlabel('Epoch')\n",
    "plt.ylabel('Test Accuracy')\n",
    "plt.title('Test Accuracy vs Epoch for Different Initializations')\n",
    "plt.legend()\n",
    "plt.grid(True)\n",
    "# Save the test accuracy plot\n",
    "plt.savefig(f'test_accuracy.png')\n",
    "plt.close()  # Close the current figure to start fresh for the next plot\n",
    "\n",
    "# Test Loss vs Epoch plot\n",
    "plt.figure(figsize=(10, 6))\n",
    "for technique in test_loss_df.columns:  # Skip the 'epoch' column\n",
    "    plt.plot(x_values, test_loss_df[technique], label=technique)\n",
    "plt.xlabel('Epoch')\n",
    "plt.ylabel('Test Loss')\n",
    "plt.title('Test Loss vs Epoch for Different Initializations')\n",
    "plt.legend()\n",
    "plt.grid(True)\n",
    "# Save the test loss plot\n",
    "plt.savefig(f'test_loss.png')\n",
    "plt.close()  # Close the current figure to start fresh for the next plot\n"
   ]
  }
 ],
 "metadata": {
  "kernelspec": {
   "display_name": "GPU_TF",
   "language": "python",
   "name": "python3"
  },
  "language_info": {
   "codemirror_mode": {
    "name": "ipython",
    "version": 3
   },
   "file_extension": ".py",
   "mimetype": "text/x-python",
   "name": "python",
   "nbconvert_exporter": "python",
   "pygments_lexer": "ipython3",
   "version": "3.9.20"
  }
 },
 "nbformat": 4,
 "nbformat_minor": 2
}
